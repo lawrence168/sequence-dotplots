{
 "cells": [
  {
   "cell_type": "markdown",
   "metadata": {},
   "source": [
    "# Dotplots in Biology\n",
    "\n",
    "A [dotplot](https://en.wikipedia.org/wiki/Dot_plot_%28bioinformatics%29) is a type of plot that shows how two sequences are similar. For every stretch of subsequence of length k (i.e. the `kmer_size`) that is shared between the two sequences, we place a dot with offset x,y corresponding to the locations of the kmer found in both sequences. Diagonal lines represent longer stretches of similarity.\n",
    "\n",
    "In this notebook, we display the dotplot of a sequence against itself. This can uncover portions of the sequence that are self-similar, or repetitive. Genomic DNA often contains repetitive sequences."
   ]
  },
  {
   "cell_type": "code",
   "execution_count": 8,
   "metadata": {},
   "outputs": [],
   "source": [
    "sequence = ''\n",
    "sequence__format = 'textarea'\n",
    "sequence__placeholder = 'Paste a fasta sequence here'\n",
    "\n",
    "kmer_size = 8"
   ]
  },
  {
   "cell_type": "code",
   "execution_count": 2,
   "metadata": {},
   "outputs": [],
   "source": [
    "import io\n",
    "from collections import defaultdict\n",
    "import matplotlib.pyplot as plt\n",
    "from util import reverse_complement, readfq"
   ]
  },
  {
   "cell_type": "code",
   "execution_count": 9,
   "metadata": {},
   "outputs": [],
   "source": [
    "if not sequence:\n",
    "    sequence = '''>test\n",
    "AAAAAAAAAAAAACCCCCCCCCCCGGGGGGGGGGGGGGTTTTTTTTTTTTTTAAAAAAAAAAAAAAAAAAA\n",
    "'''"
   ]
  },
  {
   "cell_type": "code",
   "execution_count": 35,
   "metadata": {},
   "outputs": [],
   "source": [
    "def dotplot(seq1, seq2, kmer_size=10, num_points=50000, id1=None, id2=None):\n",
    "    ''' dotplot tuned to sequences ~50 kb in length\n",
    "    '''\n",
    "    # enumerate kmers\n",
    "    kmers1 = defaultdict(list)\n",
    "    kmers2 = defaultdict(list)\n",
    "    for i in range(len(seq1)-kmer_size):\n",
    "        kmers1[seq1[i:i+kmer_size]].append(i)\n",
    "    for i in range(len(seq2)-kmer_size):\n",
    "        kmers2[seq2[i:i+kmer_size]].append(i)\n",
    "    \n",
    "    # handle reverse complement\n",
    "    seq2rc = reverse_complement(seq2)\n",
    "    len2 = len(seq2rc)\n",
    "    for i in range(len(seq2rc)-kmer_size):\n",
    "        kmers2[seq2rc[i:i+kmer_size]].append(len2-i)\n",
    "    \n",
    "    # accumulate dots\n",
    "    x = []\n",
    "    y = []\n",
    "    for kmer in kmers1:\n",
    "        for i in kmers1[kmer]:\n",
    "            for j in kmers2[kmer]:\n",
    "                x.append(i)\n",
    "                y.append(j)\n",
    "    \n",
    "    # draw scatter plot\n",
    "    plt.figure(figsize=(12,12))\n",
    "    plt.xlim(0, max(x))\n",
    "    plt.ylim(0, max(y))\n",
    "    plt.axes().set_aspect('equal')    \n",
    "    \n",
    "    skip = 0\n",
    "    if num_points:\n",
    "        skip = len(x) // num_points\n",
    "    # plot is faster than scatter: http://stackoverflow.com/questions/23489560/stop-matplotlib-scatter-plot-to-slow-down-while-adding-new-data\n",
    "    plot_options = dict(linestyle='', marker='.', markersize=1, color='black', alpha=0.2, \n",
    "                        markeredgecolor='none', )\n",
    "    if max(x) < 1000:\n",
    "        plot_options['alpha'] = 1.0\n",
    "        plot_options['markersize'] = 1000 // max(x)\n",
    "    elif max(x) < 10000:\n",
    "        plot_options['alpha'] = 1.0\n",
    "\n",
    "    if skip > 1:\n",
    "        #print \"Showing {subset} of {total} points\".format(subset=len(x)/skip, total=len(x))\n",
    "        plt.plot(x[0::skip], y[0::skip], **plot_options)\n",
    "    else:\n",
    "        plt.plot(x, y, **plot_options)\n",
    "    plt.grid(True)\n",
    "    plt.xticks(rotation='vertical')\n",
    "    if id1: plt.xlabel(id1)\n",
    "    if id2: plt.ylabel(id2)\n",
    "    plt.show()"
   ]
  },
  {
   "cell_type": "code",
   "execution_count": 36,
   "metadata": {},
   "outputs": [
    {
     "name": "stderr",
     "output_type": "stream",
     "text": [
      "/Users/lhon/notebooks/dotplot/env/lib/python3.6/site-packages/ipykernel_launcher.py:31: MatplotlibDeprecationWarning: Adding an axes using the same arguments as a previous axes currently reuses the earlier instance.  In a future version, a new instance will always be created and returned.  Meanwhile, this warning can be suppressed, and the future behavior ensured, by passing a unique label to each axes instance.\n"
     ]
    },
    {
     "data": {
      "image/png": "[encoded data removed]",
      "text/plain": [
       "<Figure size 864x864 with 1 Axes>"
      ]
     },
     "metadata": {
      "needs_background": "light"
     },
     "output_type": "display_data"
    }
   ],
   "source": [
    "for id, seq, quals in readfq(io.StringIO(sequence)):\n",
    "    dotplot(seq, seq, kmer_size=kmer_size, id1=id, id2=id)\n",
    "    break\n",
    "\n"
   ]
  }
 ],
 "metadata": {
  "kernelspec": {
   "display_name": "Python 3",
   "language": "python",
   "name": "python3"
  },
  "language_info": {
   "codemirror_mode": {
    "name": "ipython",
    "version": 3
   },
   "file_extension": ".py",
   "mimetype": "text/x-python",
   "name": "python",
   "nbconvert_exporter": "python",
   "pygments_lexer": "ipython3",
   "version": "3.6.7"
  }
 },
 "nbformat": 4,
 "nbformat_minor": 2
}
